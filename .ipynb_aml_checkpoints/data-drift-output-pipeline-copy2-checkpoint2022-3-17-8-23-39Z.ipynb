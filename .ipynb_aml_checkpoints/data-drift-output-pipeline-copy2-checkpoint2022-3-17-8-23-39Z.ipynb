{
  "cells": [
    {
      "cell_type": "code",
      "source": [
        "from azureml.core import Workspace\n",
        "\n",
        "#\n",
        "\n",
        "src_folder = 'steps'\n",
        "cluster_name = 'cpu-cluster'\n",
        "env_name = 'data-drift-env'\n",
        "\n",
        "DATASTORE_NAME = 'workspaceblobstore'\n",
        "FILE_DATASET_NAME = 'datadrift_file_results'\n",
        "json_file_path = f'datadrift/metrics/**/output_*.json'\n",
        "\n",
        "\n",
        "ws = Workspace.from_config()\n",
        "print('Ready to work with', ws.name)"
      ],
      "outputs": [],
      "execution_count": null,
      "metadata": {
        "gather": {
          "logged": 1650175017621
        }
      }
    },
    {
      "cell_type": "markdown",
      "source": [
        " # what is the purpose of this script:\n",
        " pipeline which is schudles daily(?) \n",
        "\n",
        " collect data drift detector output, transform\n",
        " \n",
        " result: dataset that can be used\n",
        "\n",
        "```json\n",
        "\n",
        "[{\"runid\": \"mslearn-diabates-drift-scheedule-Monitor-Runs_1649806360074\", \"drift_threshold\": 0.3, \"pipeline_starttime\": \"2022-04-12T23:34:36.163569Z\", \"run_type\": \"Scheduler\", \"datadrift_id\": \"0eb10f47-1629-4014-9db8-680eb438328c\", \"datadrift_name\": \"mslearn-diabates-drift-scheedule\", \"datadrift_configuration_type\": \"DatasetBased\", \"start_date\": \"2022-04-11\", \"end_date\": \"2022-04-12\", \"baseline_dataset_id\": \"8ab2e553-c4d6-4ee5-ac83-574ef324496b\", \"target_dataset_id\": \"ce614e9a-70d5-4ab0-949a-18cf1ee9b991\", \"frequency\": \"Day\", \"from_dataset\": \"both\", \"column_name\": \"Pregnancies\", \"metric_category\": \"statistical_distance\", \"metric_type\": \"column\", \"column_type\": \"numerical\", \"name\": \"wasserstein_distance\", \"value\": 5.950910447009183}... ]\n",
        "\n",
        "```\n"
      ],
      "metadata": {
        "nteract": {
          "transient": {
            "deleting": false
          }
        }
      }
    },
    {
      "cell_type": "code",
      "source": [
        "%%writefile $src_folder/utils.py\n",
        "\n",
        "from contextlib import contextmanager\n",
        "import os\n",
        "import shutil\n",
        "\n",
        "\n",
        "@contextmanager\n",
        "def temp_directory(dir_name = 'temp', **kwds):\n",
        "    \n",
        "    os.makedirs(dir_name, exist_ok=True)\n",
        "    \n",
        "    try:\n",
        "        yield dir_name\n",
        "\n",
        "    except Exception:\n",
        "        print(f\"Unable to create '{dir_name}'\")\n",
        "\n",
        "    finally:\n",
        "        shutil.rmtree(dir_name)"
      ],
      "outputs": [],
      "execution_count": null,
      "metadata": {
        "jupyter": {
          "source_hidden": false,
          "outputs_hidden": false
        },
        "nteract": {
          "transient": {
            "deleting": false
          }
        }
      }
    },
    {
      "cell_type": "code",
      "source": [
        "%%writefile $src_folder/transform-data-drift-output.py\n",
        "\n",
        "import argparse\n",
        "import json\n",
        "import bigjson\n",
        "import os\n",
        "import utils\n",
        "from azureml.core import Workspace, Dataset, Datastore, Run\n",
        "from azureml.core.run import _OfflineRun\n",
        "\n",
        "\n",
        "TEMP_DIRECTORY = 'temp'\n",
        "\n",
        "def parse_args():\n",
        "    parser = argparse.ArgumentParser()\n",
        "    parser.add_argument(\"--input-data\", type=str, dest='raw_dataset_id', help='raw dataset')\n",
        "    parser.add_argument('--transformed-data', type=str, dest='transformed_data', default='transformed_data', help='Folder for results')\n",
        "    return parser.parse_args()\n",
        "\n",
        "args = parse_args()\n",
        "print(f'Arguments: {args.__dict__}')\n",
        "save_folder = args.transformed_data\n",
        "os.makedirs(save_folder, exist_ok=True)\n",
        "\n",
        "# Get the experiment run context\n",
        "run = Run.get_context()\n",
        "\n",
        "# access the ws either wehn running offline or remote run \n",
        "ws = Workspace.from_config() if type(run) == _OfflineRun else run.experiment.workspace\n",
        "dstore = Datastore.get_default(ws)\n",
        "\n",
        "file_dataset = run.input_datasets['raw_data']\n",
        "\n",
        "print(file_dataset)\n",
        "\n",
        "with utils.temp_directory(TEMP_DIRECTORY):\n",
        "    # Download json files defined by the dataset to temp directory\n",
        "    json_file_paths = file_dataset.download(f'{TEMP_DIRECTORY}', overwrite=True)\n",
        "\n",
        "    # Convert json files to jsonl files (in local directory) \n",
        "    for json_path in json_file_paths:\n",
        "        \n",
        "        # Read json file in streaming mode\n",
        "        with open(json_path, 'rb') as f:\n",
        "            json_data = bigjson.load(f)\n",
        "            # Replace file name extension\n",
        "            jsonl_path = os.path.splitext(json_path)[0]+'.jsonl'\n",
        "\n",
        "            # Open jsonl file  \n",
        "            with open(jsonl_path, 'w') as jsonl_file:\n",
        "                # Iterates over input json\n",
        "                for data in json_data:\n",
        "                    # Converts json to a Python dict  \n",
        "                    dict_data = data.to_python()\n",
        "                    \n",
        "                    # Saves the data to jsonl file\n",
        "                    jsonl_file.write(json.dumps(dict_data)+\"\\n\")\n",
        "                    \n",
        "        # Delete json file\n",
        "        os.remove(json_path)\n",
        "\n",
        "    # Upload jsonl files to datastore\n",
        "    print(\"Saving Transformed Data...\")\n",
        "    print(os.listdir(f'{TEMP_DIRECTORY}'))\n",
        "    output_dataset = Dataset.File.upload_directory(f'{TEMP_DIRECTORY}', target=save_folder)\n",
        "    print(os.listdir(f'{save_folder}'))\n",
        "\n",
        "print(os.listdir(f'{save_folder}'))\n",
        "\n",
        "#TODO: \n",
        "## move to util\n"
      ],
      "outputs": [],
      "execution_count": null,
      "metadata": {
        "jupyter": {
          "source_hidden": false,
          "outputs_hidden": false
        },
        "nteract": {
          "transient": {
            "deleting": false
          }
        }
      }
    },
    {
      "cell_type": "code",
      "source": [
        "%%writefile $src_folder/save-data-drift-output.py\n",
        "\n",
        "import argparse\n",
        "from azureml.core import Dataset, Datastore, Run\n",
        "from azureml.core.run import _OfflineRun\n",
        "from azureml.data.dataset_factory import DataType\n",
        "\n",
        "PARTITION_FORMAT = '{DATADRIFT_ID}/{PARTITION_DATE:yyyy/MM/dd}/output_{RUN_ID}.json'\n",
        "\n",
        "\n",
        "def parse_args():\n",
        "    parser = argparse.ArgumentParser()\n",
        "    parser.add_argument(\"--transformed-data\", type=str, dest='transformed_data', help='transformed data')\n",
        "    return parser.parse_args()\n",
        "\n",
        "args = parse_args()\n",
        "print(f'Arguments: {args.__dict__}')\n",
        "transformed_data = args.transformed_data\n",
        "print(transformed_data)\n",
        "\n",
        "\n",
        "# Crate TabularDataSet based on converted jsonl files\n",
        "output_dataset = Dataset.Tabular.from_json_lines_files(path=transformed_data, partition_format=PARTITION_FORMAT)\n",
        "output_dataset = output_dataset.register_on_complete(name='datadrift_results_pipeline', description = 'datadrift results pipeline')\n"
      ],
      "outputs": [],
      "execution_count": null,
      "metadata": {
        "jupyter": {
          "source_hidden": false,
          "outputs_hidden": false
        },
        "nteract": {
          "transient": {
            "deleting": false
          }
        }
      }
    },
    {
      "cell_type": "code",
      "source": [
        "if False:\n",
        "    from azureml.core.environment import Environment\n",
        "    from azureml.core.conda_dependencies import CondaDependencies\n",
        "\n",
        "    myenv = Environment(name=env_name)\n",
        "    conda_dep = CondaDependencies()\n",
        "\n",
        "    conda_dep.add_pip_package('bigjson')\n",
        "    conda_dep.add_pip_package('azureml-defaults')\n",
        "\n",
        "    # Adds dependencies to PythonSection of myenv\n",
        "    myenv.python.conda_dependencies=conda_dep\n",
        "\n",
        "    myenv.register(ws).build(ws)"
      ],
      "outputs": [],
      "execution_count": null,
      "metadata": {
        "jupyter": {
          "source_hidden": false,
          "outputs_hidden": false
        },
        "nteract": {
          "transient": {
            "deleting": false
          }
        },
        "gather": {
          "logged": 1649873271621
        }
      }
    },
    {
      "cell_type": "code",
      "source": [
        "from azureml.core import RunConfiguration, ComputeTarget, Environment\n",
        "\n",
        "run_config = RunConfiguration()\n",
        "run_config.environment = Environment.get(ws, env_name)\n",
        "compute_target = ComputeTarget(ws, cluster_name)\n"
      ],
      "outputs": [],
      "execution_count": null,
      "metadata": {
        "jupyter": {
          "source_hidden": false,
          "outputs_hidden": false
        },
        "nteract": {
          "transient": {
            "deleting": false
          }
        },
        "gather": {
          "logged": 1650175054781
        }
      }
    },
    {
      "cell_type": "code",
      "source": [
        "from azureml.pipeline.core import PipelineData, PipelineParameter\n",
        "from azureml.pipeline.steps import PythonScriptStep\n",
        "from azureml.core import ComputeTarget, Datastore, Dataset\n",
        "from azureml.data import OutputFileDatasetConfig\n",
        "\n",
        "#datadir_param = PipelineData('datadir', is_directory=True)\n",
        "#evolve_param = PipelineData('evolve')\n",
        "#azure_param = PipelineData('azure')\n",
        "#compare_param = PipelineData('compare')\n",
        "\n",
        "#collection_param = PipelineParameter(name=\"collection\", default_value='test_datasets')\n",
        "#repo_param = PipelineParameter(name=\"repo\", default_value='test')\n",
        "\n",
        "\n",
        "collection_param = PipelineParameter(name=\"collection\", default_value='test_datasets')\n",
        "repo_param = PipelineParameter(name=\"repo\", default_value='test')\n",
        "\n",
        "\n",
        "# Get data-drift output dataset\n",
        "dstore = Datastore.get(ws, DATASTORE_NAME)\n",
        "metrics_ds = Dataset.File.from_files(path=(dstore,json_file_path)) # add filter dataset\n",
        "\n",
        "# Create an OutputFileDatasetConfig (temporary Data Reference) for data passed from step 1 to step 2\n",
        "transformed_data = OutputFileDatasetConfig(\"transformed_data\")\n",
        "\n",
        "# step 0, collate the data drift outputs of dstore \n",
        "## use the path-pattern to load files \n",
        "## filter(-1 month)\n",
        "\n",
        "# Step 1, data transofrm (from json to jsonl), save to dstore as .jsonl files\n",
        "## future todo: Parallel-ize the json files transformation  \n",
        "transform_step = PythonScriptStep(\n",
        "    name='transform data drift output',\n",
        "    source_directory=src_folder,\n",
        "    script_name='transform-data-drift-output.py',\n",
        "    arguments = ['--input-data', metrics_ds.as_named_input('raw_data'),\n",
        "                '--transformed-data', transformed_data],                \n",
        "    compute_target=compute_target, \n",
        "    runconfig=run_config, \n",
        "    allow_reuse=False,    \n",
        ")\n",
        "\n",
        "# Step 2, collate the .jsonl file, partition accordingly (by monitor, by run, time-series), register new version per Output Dataset (Tabular) \n",
        "## future - iron out the duplicated / contradictory data points (duplicated runs)\n",
        "save_step = PythonScriptStep(\n",
        "    name='save data drift output',\n",
        "    source_directory=src_folder,\n",
        "    script_name='save-data-drift-output.py',\n",
        "    arguments = ['--transformed-data', transformed_data.as_input()],\n",
        "    compute_target=compute_target, \n",
        "    runconfig=run_config,    \n",
        "    allow_reuse=False,\n",
        ")\n",
        "\n",
        "print(\"Pipeline steps defined\")"
      ],
      "outputs": [],
      "execution_count": null,
      "metadata": {
        "jupyter": {
          "source_hidden": false,
          "outputs_hidden": false
        },
        "nteract": {
          "transient": {
            "deleting": false
          }
        },
        "gather": {
          "logged": 1650175069319
        }
      }
    },
    {
      "cell_type": "code",
      "source": [
        "from azureml.core import Experiment\n",
        "from azureml.pipeline.core import PipelineParameter\n",
        "from azureml.pipeline.core import Pipeline\n",
        "from azureml.widgets import RunDetails\n",
        "\n",
        "# Construct the pipeline\n",
        "pipeline_steps = [transform_step, save_step]\n",
        "pipeline = Pipeline(workspace=ws, steps=pipeline_steps)\n",
        "print(\"Pipeline is built.\")\n",
        "\n",
        "# Create an experiment and run the pipeline\n",
        "experiment = Experiment(workspace=ws, name = 'data-drift-output-exeriment')\n",
        "pipeline_run = experiment.submit(pipeline, regenerate_outputs=True) \n",
        "print(\"Pipeline submitted for execution.\")\n",
        "\n",
        "RunDetails(pipeline_run).show()\n",
        "pipeline_run.wait_for_completion(show_output=True)\n"
      ],
      "outputs": [],
      "execution_count": null,
      "metadata": {
        "jupyter": {
          "source_hidden": false,
          "outputs_hidden": false
        },
        "nteract": {
          "transient": {
            "deleting": false
          }
        },
        "gather": {
          "logged": 1650177288238
        }
      }
    },
    {
      "cell_type": "code",
      "source": [
        "from azureml.pipeline.core import PipelineRun\n",
        "from azureml.core import Experiment\n",
        "\n",
        "# Publish the pipeline from the run\n",
        "submitted_pipeline_run = PipelineRun(experiment=Experiment(experiment, run_id=pipeline_run.id))\n",
        "published_pipeline = submitted_pipeline_run.publish_pipeline(name='data-drift-output-pipeline',\n",
        "    description='collect, transform and save datadrift output into dataset',\n",
        "    version='1.0',\n",
        "    continue_on_step_failure=False)\n",
        "\n",
        "print('Pipeline scheduled.')"
      ],
      "outputs": [],
      "execution_count": null,
      "metadata": {
        "jupyter": {
          "source_hidden": false,
          "outputs_hidden": false
        },
        "nteract": {
          "transient": {
            "deleting": false
          }
        }
      }
    },
    {
      "cell_type": "code",
      "source": [
        "from azureml.pipeline.core import ScheduleRecurrence, Schedule\n",
        "\n",
        "# Schedules a daily run of a published pipeline\n",
        "daily = ScheduleRecurrence(frequency='Day', interval=1)\n",
        "pipeline_schedule = Schedule.create(ws, name='data_drift_output_schedule',\n",
        "                                        description='update data drift output every day',\n",
        "                                        pipeline_id=published_pipeline.id,\n",
        "                                        experiment_name='schedule_data_drift_output_pipeline',\n",
        "                                        recurrence=daily)\n",
        "\n",
        "print('Pipeline scheduled.')"
      ],
      "outputs": [],
      "execution_count": null,
      "metadata": {
        "jupyter": {
          "source_hidden": false,
          "outputs_hidden": false
        },
        "nteract": {
          "transient": {
            "deleting": false
          }
        }
      }
    }
  ],
  "metadata": {
    "kernelspec": {
      "name": "python3",
      "language": "python",
      "display_name": "Python 3"
    },
    "language_info": {
      "name": "python",
      "version": "3.8.1",
      "mimetype": "text/x-python",
      "codemirror_mode": {
        "name": "ipython",
        "version": 3
      },
      "pygments_lexer": "ipython3",
      "nbconvert_exporter": "python",
      "file_extension": ".py"
    },
    "kernel_info": {
      "name": "python3"
    },
    "nteract": {
      "version": "nteract-front-end@1.0.0"
    }
  },
  "nbformat": 4,
  "nbformat_minor": 2
}